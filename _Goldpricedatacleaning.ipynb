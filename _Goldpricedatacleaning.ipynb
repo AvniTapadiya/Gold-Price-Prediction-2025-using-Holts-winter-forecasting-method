{
 "cells": [
  {
   "cell_type": "code",
   "execution_count": 5,
   "id": "3878b335-9aa3-475e-a6e4-ef3bd7a4d6d0",
   "metadata": {},
   "outputs": [
    {
     "name": "stdout",
     "output_type": "stream",
     "text": [
      "Merged file saved as: merged_gold_prices.xlsx\n"
     ]
    }
   ],
   "source": [
    "import pandas as pd\n",
    "\n",
    "# Define file paths\n",
    "file1 = \"Gold Futures Historical Data (23.01.24-22.11.24).csv\"\n",
    "file2 = \"gold prices.csv\"\n",
    "\n",
    "# Load CSV files into DataFrames\n",
    "df1 = pd.read_csv(file1)\n",
    "df2 = pd.read_csv(file2)\n",
    "\n",
    "# Merge the data (append one after the other)\n",
    "merged_df = pd.concat([df1, df2], ignore_index=True)\n",
    "\n",
    "# Save the merged data to an Excel file\n",
    "output_file = \"merged_gold_prices.xlsx\"\n",
    "merged_df.to_excel(output_file, index=False)\n",
    "\n",
    "# Display success message\n",
    "print(f\"Merged file saved as: {output_file}\")\n",
    "\n"
   ]
  },
  {
   "cell_type": "code",
   "execution_count": 16,
   "id": "63b6fc38-e9d4-4205-8c40-fa46d14c7782",
   "metadata": {},
   "outputs": [
    {
     "name": "stdout",
     "output_type": "stream",
     "text": [
      "Updated file saved as: merged_gold_prices.xlsx\n"
     ]
    }
   ],
   "source": [
    "import pandas as pd\n",
    "\n",
    "# Load the merged Excel file\n",
    "file_path = \"merged_gold_prices.xlsx\"\n",
    "df = pd.read_excel(file_path)\n",
    "\n",
    "# Remove specified columns\n",
    "columns_to_remove = [\"Change %\", \"Vol.\", \"Price\"]\n",
    "df.drop(columns=columns_to_remove, errors=\"ignore\", inplace=True)  # Modify DataFrame in place\n",
    "\n",
    "# Save the updated data back to the same file\n",
    "df.to_excel(file_path, index=False)\n",
    "\n",
    "print(f\"Updated file saved as: {file_path}\")\n",
    "\n"
   ]
  },
  {
   "cell_type": "code",
   "execution_count": 18,
   "id": "52f78e9c-7f75-45b5-86fa-86dfcf928426",
   "metadata": {},
   "outputs": [
    {
     "name": "stdout",
     "output_type": "stream",
     "text": [
      "         Date      Open      High       Low Close/Last   Volume\n",
      "0  11/22/2024  2,671.20  2,701.60  2,670.85   2,699.70      NaN\n",
      "1  11/21/2024  2,653.50  2,676.50  2,651.60   2,674.90  186.30K\n",
      "2  11/20/2024  2,635.80  2,659.00  2,621.90   2,651.70  182.01K\n",
      "3  11/19/2024  2,616.30  2,643.40  2,614.20   2,631.00  202.24K\n",
      "4  11/18/2024  2,571.50  2,619.50  2,568.50   2,614.60  195.29K\n"
     ]
    }
   ],
   "source": [
    "df = pd.read_excel(\"merged_gold_prices.xlsx\")\n",
    "print(df.head())  # Check the first few rows"
   ]
  },
  {
   "cell_type": "code",
   "execution_count": 20,
   "id": "f7021cd2-3459-4542-b236-e0b4da8282f8",
   "metadata": {},
   "outputs": [
    {
     "name": "stdout",
     "output_type": "stream",
     "text": [
      "Number of duplicate rows: 0\n",
      "\n",
      "Null values in each column:\n",
      "Date           0\n",
      "Open           0\n",
      "High           0\n",
      "Low            0\n",
      "Close/Last     0\n",
      "Volume        31\n",
      "dtype: int64\n"
     ]
    }
   ],
   "source": [
    "# Check for duplicate rows\n",
    "duplicate_rows = df.duplicated().sum()\n",
    "print(f\"Number of duplicate rows: {duplicate_rows}\")\n",
    "\n",
    "# Check for null values in each column\n",
    "null_values = df.isnull().sum()\n",
    "print(\"\\nNull values in each column:\")\n",
    "print(null_values)"
   ]
  },
  {
   "cell_type": "code",
   "execution_count": 22,
   "id": "94bafceb-4072-4698-80ed-b9866d1f5dcf",
   "metadata": {},
   "outputs": [
    {
     "name": "stdout",
     "output_type": "stream",
     "text": [
      "Rows with null values removed. Updated file saved as: merged_gold_prices.xlsx\n"
     ]
    }
   ],
   "source": [
    "# Remove rows with null values\n",
    "df_cleaned = df.dropna()\n",
    "\n",
    "# Save back to the same file\n",
    "df_cleaned.to_excel(file_path, index=False)\n",
    "\n",
    "print(f\"Rows with null values removed. Updated file saved as: {file_path}\")"
   ]
  },
  {
   "cell_type": "code",
   "execution_count": 43,
   "id": "1ad3516e-ace3-4d0d-938f-f982d2d51286",
   "metadata": {},
   "outputs": [
    {
     "name": "stdout",
     "output_type": "stream",
     "text": [
      "         Date      Open      High       Low Close/Last   Volume\n",
      "0  11/21/2024  2,653.50  2,676.50  2,651.60   2,674.90  186.30K\n",
      "1  11/20/2024  2,635.80  2,659.00  2,621.90   2,651.70  182.01K\n",
      "2  11/19/2024  2,616.30  2,643.40  2,614.20   2,631.00  202.24K\n",
      "3  11/18/2024  2,571.50  2,619.50  2,568.50   2,614.60  195.29K\n",
      "4  11/15/2024  2,570.40  2,580.80  2,558.90   2,570.10  179.89K\n"
     ]
    }
   ],
   "source": [
    "df = pd.read_excel(\"merged_gold_prices.xlsx\")\n",
    "print(df.head())  # Check the first few rows"
   ]
  },
  {
   "cell_type": "code",
   "execution_count": 47,
   "id": "af0ecb83-5365-476d-b285-65f591daba50",
   "metadata": {},
   "outputs": [
    {
     "name": "stdout",
     "output_type": "stream",
     "text": [
      "'Close/Last' column renamed to 'Price' and saved in: merged_gold_prices.xlsx\n"
     ]
    }
   ],
   "source": [
    "# Load the Excel file\n",
    "file_path = \"merged_gold_prices.xlsx\"\n",
    "df = pd.read_excel(file_path)\n",
    "\n",
    "# Rename 'Close/Last' to 'Price' if it exists\n",
    "if 'Close/Last' in df.columns:\n",
    "    df.rename(columns={'Close/Last': 'Price'}, inplace=True)\n",
    "\n",
    "# Save the updated file\n",
    "df.to_excel(file_path, index=False)\n",
    "\n",
    "print(f\"'Close/Last' column renamed to 'Price' and saved in: {file_path}\")"
   ]
  },
  {
   "cell_type": "code",
   "execution_count": 49,
   "id": "683bc650-e859-4b6d-a137-da5df1d8f425",
   "metadata": {},
   "outputs": [
    {
     "name": "stdout",
     "output_type": "stream",
     "text": [
      "         Date      Open      High       Low     Price   Volume\n",
      "0  11/21/2024  2,653.50  2,676.50  2,651.60  2,674.90  186.30K\n",
      "1  11/20/2024  2,635.80  2,659.00  2,621.90  2,651.70  182.01K\n",
      "2  11/19/2024  2,616.30  2,643.40  2,614.20  2,631.00  202.24K\n",
      "3  11/18/2024  2,571.50  2,619.50  2,568.50  2,614.60  195.29K\n",
      "4  11/15/2024  2,570.40  2,580.80  2,558.90  2,570.10  179.89K\n"
     ]
    }
   ],
   "source": [
    "df = pd.read_excel(\"merged_gold_prices.xlsx\")\n",
    "print(df.head())  # Check the first few rows"
   ]
  },
  {
   "cell_type": "code",
   "execution_count": 57,
   "id": "512c1a28-0333-46d7-b670-a16411b7cab6",
   "metadata": {},
   "outputs": [
    {
     "name": "stdout",
     "output_type": "stream",
     "text": [
      "Columns in the dataset: Index(['Date', 'Open', 'High', 'Low', 'Price', 'Volume'], dtype='object')\n",
      "Processed file saved as: holtswinter.xlsx\n"
     ]
    },
    {
     "data": {
      "text/html": [
       "<div>\n",
       "<style scoped>\n",
       "    .dataframe tbody tr th:only-of-type {\n",
       "        vertical-align: middle;\n",
       "    }\n",
       "\n",
       "    .dataframe tbody tr th {\n",
       "        vertical-align: top;\n",
       "    }\n",
       "\n",
       "    .dataframe thead th {\n",
       "        text-align: right;\n",
       "    }\n",
       "</style>\n",
       "<table border=\"1\" class=\"dataframe\">\n",
       "  <thead>\n",
       "    <tr style=\"text-align: right;\">\n",
       "      <th></th>\n",
       "      <th>Date</th>\n",
       "      <th>Price</th>\n",
       "    </tr>\n",
       "  </thead>\n",
       "  <tbody>\n",
       "    <tr>\n",
       "      <th>0</th>\n",
       "      <td>2013-08-01</td>\n",
       "      <td>1391.610000</td>\n",
       "    </tr>\n",
       "    <tr>\n",
       "      <th>1</th>\n",
       "      <td>2013-09-01</td>\n",
       "      <td>1346.080000</td>\n",
       "    </tr>\n",
       "    <tr>\n",
       "      <th>2</th>\n",
       "      <td>2013-10-01</td>\n",
       "      <td>1315.572727</td>\n",
       "    </tr>\n",
       "    <tr>\n",
       "      <th>3</th>\n",
       "      <td>2013-11-01</td>\n",
       "      <td>1275.210000</td>\n",
       "    </tr>\n",
       "    <tr>\n",
       "      <th>4</th>\n",
       "      <td>2013-12-01</td>\n",
       "      <td>1223.919048</td>\n",
       "    </tr>\n",
       "  </tbody>\n",
       "</table>\n",
       "</div>"
      ],
      "text/plain": [
       "        Date        Price\n",
       "0 2013-08-01  1391.610000\n",
       "1 2013-09-01  1346.080000\n",
       "2 2013-10-01  1315.572727\n",
       "3 2013-11-01  1275.210000\n",
       "4 2013-12-01  1223.919048"
      ]
     },
     "execution_count": 57,
     "metadata": {},
     "output_type": "execute_result"
    }
   ],
   "source": [
    "import pandas as pd\n",
    "\n",
    "# Load the Excel file\n",
    "file_path = \"merged_gold_prices.xlsx\"  # Update this if needed\n",
    "df = pd.read_excel(file_path)\n",
    "\n",
    "# Display the first few rows to check column names\n",
    "print(\"Columns in the dataset:\", df.columns)\n",
    "\n",
    "# Convert 'Date' column to datetime format\n",
    "df['Date'] = pd.to_datetime(df['Date'], errors='coerce')\n",
    "\n",
    "# Drop rows with invalid dates\n",
    "df = df.dropna(subset=['Date'])\n",
    "\n",
    "# Check if 'Close/Last' column exists and rename it to 'Price'\n",
    "if 'Close/Last' in df.columns:\n",
    "    df.rename(columns={'Close/Last': 'Price'}, inplace=True)\n",
    "\n",
    "# If 'Price' column has commas, remove them and convert to numeric\n",
    "df['Price'] = df['Price'].astype(str).str.replace(',', '', regex=True)\n",
    "df['Price'] = pd.to_numeric(df['Price'], errors='coerce')\n",
    "\n",
    "# Drop rows with NaN values in 'Price'\n",
    "df = df.dropna(subset=['Price'])\n",
    "\n",
    "# Extract Year and Month for grouping\n",
    "df['Year'] = df['Date'].dt.year\n",
    "df['Month'] = df['Date'].dt.month\n",
    "\n",
    "# Group by Year and Month, then calculate the average Price\n",
    "df_monthly_avg = df.groupby(['Year', 'Month'], as_index=False)['Price'].mean()\n",
    "\n",
    "# Create a new Date column representing the first day of the month\n",
    "df_monthly_avg['Date'] = pd.to_datetime(df_monthly_avg[['Year', 'Month']].assign(day=1))\n",
    "\n",
    "# Keep only Date and Price columns\n",
    "df_final = df_monthly_avg[['Date', 'Price']]\n",
    "\n",
    "# Save the cleaned data to a new Excel file\n",
    "output_file_path = \"holtswinter.xlsx\"\n",
    "df_final.to_excel(output_file_path, index=False)\n",
    "\n",
    "print(f\"Processed file saved as: {output_file_path}\")\n",
    "df_final.head()  # Display first few rows of final output\n"
   ]
  },
  {
   "cell_type": "code",
   "execution_count": 63,
   "id": "abac64da-229a-4f98-92d0-aa468d0ce735",
   "metadata": {},
   "outputs": [
    {
     "name": "stdout",
     "output_type": "stream",
     "text": [
      "         Date    Price\n",
      "0  2014-01-01  1243.46\n",
      "1  2014-02-01  1300.72\n",
      "2  2014-03-01  1336.53\n",
      "3  2014-04-01  1298.75\n",
      "4  2014-05-01  1287.81\n"
     ]
    },
    {
     "name": "stderr",
     "output_type": "stream",
     "text": [
      "C:\\Users\\Dell\\AppData\\Local\\Temp\\ipykernel_11648\\4106996170.py:42: SettingWithCopyWarning: \n",
      "A value is trying to be set on a copy of a slice from a DataFrame.\n",
      "Try using .loc[row_indexer,col_indexer] = value instead\n",
      "\n",
      "See the caveats in the documentation: https://pandas.pydata.org/pandas-docs/stable/user_guide/indexing.html#returning-a-view-versus-a-copy\n",
      "  df_final['Price'] = df_final['Price'].round(2)\n",
      "C:\\Users\\Dell\\AppData\\Local\\Temp\\ipykernel_11648\\4106996170.py:45: SettingWithCopyWarning: \n",
      "A value is trying to be set on a copy of a slice from a DataFrame\n",
      "\n",
      "See the caveats in the documentation: https://pandas.pydata.org/pandas-docs/stable/user_guide/indexing.html#returning-a-view-versus-a-copy\n",
      "  df_final.loc[len(df_final)] = ['2024-12-01', 2500.00]  # Example price\n"
     ]
    }
   ],
   "source": [
    "\n",
    "# Load the Excel file\n",
    "file_path = \"holtswinter.xlsx\"\n",
    "df = pd.read_excel(file_path)\n",
    "\n",
    "# Convert 'Date' column to datetime format\n",
    "df['Date'] = pd.to_datetime(df['Date'], errors='coerce')\n",
    "\n",
    "# Drop rows with invalid dates\n",
    "df = df.dropna(subset=['Date'])\n",
    "\n",
    "# Remove time from Date (keep only YYYY-MM-DD)\n",
    "df['Date'] = df['Date'].dt.strftime('%Y-%m-%d')\n",
    "\n",
    "# Remove 2013 data\n",
    "df = df[df['Date'] >= '2014-01-01']\n",
    "\n",
    "# Check if 'Close/Last' or 'Price' column exists\n",
    "if 'Close/Last' in df.columns:\n",
    "    df.rename(columns={'Close/Last': 'Price'}, inplace=True)\n",
    "\n",
    "# Convert 'Price' to numeric (remove commas if any)\n",
    "df['Price'] = df['Price'].astype(str).str.replace(',', '', regex=True)\n",
    "df['Price'] = pd.to_numeric(df['Price'], errors='coerce')\n",
    "\n",
    "# Drop rows with NaN values in 'Price'\n",
    "df = df.dropna(subset=['Price'])\n",
    "\n",
    "# Extract Year and Month for grouping\n",
    "df['Year'] = pd.to_datetime(df['Date']).dt.year\n",
    "df['Month'] = pd.to_datetime(df['Date']).dt.month\n",
    "\n",
    "# Group by Year and Month, then calculate the average Price\n",
    "df_monthly_avg = df.groupby(['Year', 'Month'], as_index=False)['Price'].mean()\n",
    "\n",
    "# Create a new Date column representing the first day of the month\n",
    "df_monthly_avg['Date'] = pd.to_datetime(df_monthly_avg[['Year', 'Month']].assign(day=1)).dt.strftime('%Y-%m-%d')\n",
    "\n",
    "# Keep only Date and Price columns\n",
    "df_final = df_monthly_avg[['Date', 'Price']]\n",
    "\n",
    "# Round Price to 2 decimal places\n",
    "df_final['Price'] = df_final['Price'].round(2)\n",
    "\n",
    "# Add December 2024 manually with a custom price (change if needed)\n",
    "df_final.loc[len(df_final)] = ['2024-12-01', 2500.00]  # Example price\n",
    "\n",
    "# Save the cleaned data back to the same file\n",
    "df_final.to_excel(file_path, index=False)\n",
    "\n",
    "# Display the top rows\n",
    "print(df_final.head())\n"
   ]
  },
  {
   "cell_type": "code",
   "execution_count": null,
   "id": "07529e3b-d0f3-417b-8f71-0c4ed26933e1",
   "metadata": {},
   "outputs": [],
   "source": []
  }
 ],
 "metadata": {
  "kernelspec": {
   "display_name": "Python [conda env:base] *",
   "language": "python",
   "name": "conda-base-py"
  },
  "language_info": {
   "codemirror_mode": {
    "name": "ipython",
    "version": 3
   },
   "file_extension": ".py",
   "mimetype": "text/x-python",
   "name": "python",
   "nbconvert_exporter": "python",
   "pygments_lexer": "ipython3",
   "version": "3.12.7"
  }
 },
 "nbformat": 4,
 "nbformat_minor": 5
}
